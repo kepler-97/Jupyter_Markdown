{
 "cells": [
  {
   "cell_type": "markdown",
   "id": "72788aa2",
   "metadata": {},
   "source": [
    "<img src = 'python3.png'/>\n",
    "\n",
    "# NIVELL 1\n"
   ]
  },
  {
   "cell_type": "markdown",
   "id": "32c1cfe4",
   "metadata": {},
   "source": [
    "## EXERCICI_3\n",
    "---\n",
    "### Stylizing  _text_\n",
    "\n",
    "+ Para ejecutar el código de una celda: ___shift + enter___\n",
    "+ Cambiar a una __```celda MARKDOWN```__ presionar: ___M___\n",
    "+ Cambiar a una celda CÓDIGO presionar: ___Y___\n",
    "+ Borrar una celda: ___DD___"
   ]
  },
  {
   "cell_type": "markdown",
   "id": "9c346696",
   "metadata": {},
   "source": [
    "## EXERCICI_2\n",
    "---"
   ]
  },
  {
   "cell_type": "code",
   "execution_count": 7,
   "id": "68852ef8",
   "metadata": {},
   "outputs": [
    {
     "name": "stdout",
     "output_type": "stream",
     "text": [
      "True\n"
     ]
    }
   ],
   "source": [
    "# Exercic_2\n",
    "\n",
    "word = \"shell\"\n",
    "sntnce = 'Python in a nutshell'\n",
    "\n",
    "if word in sntnce:\n",
    "    print('True')\n",
    "else:\n",
    "    print('False')"
   ]
  },
  {
   "cell_type": "code",
   "execution_count": 8,
   "id": "e7b60232",
   "metadata": {
    "scrolled": true
   },
   "outputs": [
    {
     "name": "stdout",
     "output_type": "stream",
     "text": [
      "_____Operacions amb strings_____\n",
      "\n",
      "¡Hola IT Academy! \n",
      "\n",
      "Imprimeix '¡Hola IT Academy!' dues vegades: ¡Hola IT Academy!¡Hola IT Academy!\n",
      "\n",
      "\n"
     ]
    }
   ],
   "source": [
    "#Exercici_2_Continuació\n",
    "\n",
    "#Operacions amb Strings\n",
    "print(\"_____Operacions amb strings_____\\n\")\n",
    "\n",
    "\n",
    "str1 = str(\"¡Hola\")\n",
    "str2 = str(\"IT Academy!\")\n",
    "\n",
    "print(str1 + \" \" + str2, \"\\n\") #Concatenació de strings\n",
    "print(\"Imprimeix '¡Hola IT Academy!' dues vegades:\", (str1 + \" \" + str2)*2) #Repetició de strings\n",
    "print(\"\\n\")"
   ]
  },
  {
   "cell_type": "code",
   "execution_count": 4,
   "id": "a389a376",
   "metadata": {},
   "outputs": [
    {
     "name": "stdout",
     "output_type": "stream",
     "text": [
      "_____Operacions matemàtiques i tipus de dades_____\n",
      "\n",
      "Value of D: 9.240854366957011\n",
      "Data type of D: <class 'float'> \n",
      "\n",
      "Value of DDD: 9\n",
      "Data type of 'DDD': <class 'int'> \n",
      "\n"
     ]
    }
   ],
   "source": [
    "# Exercici_2_Continuació\n",
    "\n",
    "## Operacions Matemàtiques\n",
    "print(\"_____Operacions matemàtiques i tipus de dades_____\\n\")\n",
    "\n",
    "\n",
    "a = 2**3.1\n",
    "s = 2/3\n",
    "\n",
    "D = a + s\n",
    "DDD = int(D)\n",
    "\n",
    "\n",
    "print(\"Value of D:\", D)\n",
    "print(\"Data type of D:\", type(D), \"\\n\") ##Tipus de dada\n",
    "\n",
    "print(\"Value of DDD:\", DDD)\n",
    "print(\"Data type of 'DDD':\", type(DDD),\"\\n\") ##Tipus de dada"
   ]
  }
 ],
 "metadata": {
  "hide_input": false,
  "kernelspec": {
   "display_name": "Python 3",
   "language": "python",
   "name": "python3"
  },
  "language_info": {
   "codemirror_mode": {
    "name": "ipython",
    "version": 3
   },
   "file_extension": ".py",
   "mimetype": "text/x-python",
   "name": "python",
   "nbconvert_exporter": "python",
   "pygments_lexer": "ipython3",
   "version": "3.8.8"
  },
  "latex_envs": {
   "LaTeX_envs_menu_present": true,
   "autoclose": false,
   "autocomplete": true,
   "bibliofile": "biblio.bib",
   "cite_by": "apalike",
   "current_citInitial": 1,
   "eqLabelWithNumbers": true,
   "eqNumInitial": 1,
   "hotkeys": {
    "equation": "Ctrl-E",
    "itemize": "Ctrl-I"
   },
   "labels_anchors": false,
   "latex_user_defs": false,
   "report_style_numbering": false,
   "user_envs_cfg": false
  }
 },
 "nbformat": 4,
 "nbformat_minor": 5
}
